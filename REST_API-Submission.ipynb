{
 "cells": [
  {
   "cell_type": "code",
   "execution_count": 5,
   "metadata": {},
   "outputs": [],
   "source": [
    "import requests\n",
    "import numpy as np\n",
    "import json\n",
    "from numpy import array\n"
   ]
  },
  {
   "cell_type": "code",
   "execution_count": 6,
   "metadata": {},
   "outputs": [],
   "source": [
    "import pandas as pd\n",
    "import urllib"
   ]
  },
  {
   "cell_type": "code",
   "execution_count": 7,
   "metadata": {},
   "outputs": [],
   "source": [
    "response = requests.get('http://165.22.250.235/api/assessment/mengwai8@gmail.com?date=09-07-2020')"
   ]
  },
  {
   "cell_type": "code",
   "execution_count": 8,
   "metadata": {},
   "outputs": [
    {
     "name": "stdout",
     "output_type": "stream",
     "text": [
      "<Response [200]>\n"
     ]
    }
   ],
   "source": [
    "print (response)"
   ]
  },
  {
   "cell_type": "code",
   "execution_count": 9,
   "metadata": {},
   "outputs": [
    {
     "data": {
      "text/plain": [
       "requests.models.Response"
      ]
     },
     "execution_count": 9,
     "metadata": {},
     "output_type": "execute_result"
    }
   ],
   "source": [
    "type(response)"
   ]
  },
  {
   "cell_type": "code",
   "execution_count": 10,
   "metadata": {},
   "outputs": [
    {
     "data": {
      "text/plain": [
       "{'email': 'mengwai8@gmail.com',\n",
       " 'samples': '69.034,144.717,192.852,186.802,63.706,40.211,138.115,118.234,113.539,24.811,93.578,135.242,60.261,91.72,68.603,96.841,180.332,99.556,42.65,169.499,6.863,19.25,108.33,117.03,123.943,10.977,83.219,131.475,166.294,97.954,79.13,190.671,60.744,183.522,5.059,37.522,125.408,66.028,155.243,170.241,172.344,188.934,18.652,139.171,9.867,156.056,109.064,17.367,150.968,155.618,172.55,158.732,61.766,21.126,61.001,55.01,79.253,44.261,158.922'}"
      ]
     },
     "execution_count": 10,
     "metadata": {},
     "output_type": "execute_result"
    }
   ],
   "source": [
    "response.json()"
   ]
  },
  {
   "cell_type": "code",
   "execution_count": 12,
   "metadata": {},
   "outputs": [
    {
     "name": "stdout",
     "output_type": "stream",
     "text": [
      "{\"email\":\"mengwai8@gmail.com\",\"samples\":\"69.034,144.717,192.852,186.802,63.706,40.211,138.115,118.234,113.539,24.811,93.578,135.242,60.261,91.72,68.603,96.841,180.332,99.556,42.65,169.499,6.863,19.25,108.33,117.03,123.943,10.977,83.219,131.475,166.294,97.954,79.13,190.671,60.744,183.522,5.059,37.522,125.408,66.028,155.243,170.241,172.344,188.934,18.652,139.171,9.867,156.056,109.064,17.367,150.968,155.618,172.55,158.732,61.766,21.126,61.001,55.01,79.253,44.261,158.922\"}\n"
     ]
    }
   ],
   "source": [
    "print (response.text)"
   ]
  },
  {
   "cell_type": "code",
   "execution_count": 13,
   "metadata": {},
   "outputs": [
    {
     "data": {
      "text/plain": [
       "'{\"email\":\"mengwai8@gmail.com\",\"samples\":\"69.034,144.717,192.852,186.802,63.706,40.211,138.115,118.234,113.539,24.811,93.578,135.242,60.261,91.72,68.603,96.841,180.332,99.556,42.65,169.499,6.863,19.25,108.33,117.03,123.943,10.977,83.219,131.475,166.294,97.954,79.13,190.671,60.744,183.522,5.059,37.522,125.408,66.028,155.243,170.241,172.344,188.934,18.652,139.171,9.867,156.056,109.064,17.367,150.968,155.618,172.55,158.732,61.766,21.126,61.001,55.01,79.253,44.261,158.922\"}'"
      ]
     },
     "execution_count": 13,
     "metadata": {},
     "output_type": "execute_result"
    }
   ],
   "source": [
    "resp = (response.text)\n",
    "(resp)"
   ]
  },
  {
   "cell_type": "code",
   "execution_count": 14,
   "metadata": {},
   "outputs": [
    {
     "data": {
      "text/plain": [
       "{'email': 'mengwai8@gmail.com',\n",
       " 'samples': '69.034,144.717,192.852,186.802,63.706,40.211,138.115,118.234,113.539,24.811,93.578,135.242,60.261,91.72,68.603,96.841,180.332,99.556,42.65,169.499,6.863,19.25,108.33,117.03,123.943,10.977,83.219,131.475,166.294,97.954,79.13,190.671,60.744,183.522,5.059,37.522,125.408,66.028,155.243,170.241,172.344,188.934,18.652,139.171,9.867,156.056,109.064,17.367,150.968,155.618,172.55,158.732,61.766,21.126,61.001,55.01,79.253,44.261,158.922'}"
      ]
     },
     "execution_count": 14,
     "metadata": {},
     "output_type": "execute_result"
    }
   ],
   "source": [
    "#convert donwloaded data to dict\n",
    "loader = json.loads(resp)\n",
    "loader"
   ]
  },
  {
   "cell_type": "code",
   "execution_count": 16,
   "metadata": {},
   "outputs": [],
   "source": [
    "data = response.json() #to convert json response into dict "
   ]
  },
  {
   "cell_type": "code",
   "execution_count": 17,
   "metadata": {},
   "outputs": [
    {
     "data": {
      "text/plain": [
       "'69.034,144.717,192.852,186.802,63.706,40.211,138.115,118.234,113.539,24.811,93.578,135.242,60.261,91.72,68.603,96.841,180.332,99.556,42.65,169.499,6.863,19.25,108.33,117.03,123.943,10.977,83.219,131.475,166.294,97.954,79.13,190.671,60.744,183.522,5.059,37.522,125.408,66.028,155.243,170.241,172.344,188.934,18.652,139.171,9.867,156.056,109.064,17.367,150.968,155.618,172.55,158.732,61.766,21.126,61.001,55.01,79.253,44.261,158.922'"
      ]
     },
     "execution_count": 17,
     "metadata": {},
     "output_type": "execute_result"
    }
   ],
   "source": [
    " data[\"samples\"] # extract samples data "
   ]
  },
  {
   "cell_type": "code",
   "execution_count": 18,
   "metadata": {},
   "outputs": [],
   "source": [
    "# convert data into pandas dataframe \n",
    "df=pd.Series(data).to_frame('data')"
   ]
  },
  {
   "cell_type": "code",
   "execution_count": 19,
   "metadata": {},
   "outputs": [
    {
     "data": {
      "text/html": [
       "<div>\n",
       "<style scoped>\n",
       "    .dataframe tbody tr th:only-of-type {\n",
       "        vertical-align: middle;\n",
       "    }\n",
       "\n",
       "    .dataframe tbody tr th {\n",
       "        vertical-align: top;\n",
       "    }\n",
       "\n",
       "    .dataframe thead th {\n",
       "        text-align: right;\n",
       "    }\n",
       "</style>\n",
       "<table border=\"1\" class=\"dataframe\">\n",
       "  <thead>\n",
       "    <tr style=\"text-align: right;\">\n",
       "      <th></th>\n",
       "      <th>data</th>\n",
       "    </tr>\n",
       "  </thead>\n",
       "  <tbody>\n",
       "    <tr>\n",
       "      <th>email</th>\n",
       "      <td>mengwai8@gmail.com</td>\n",
       "    </tr>\n",
       "    <tr>\n",
       "      <th>samples</th>\n",
       "      <td>69.034,144.717,192.852,186.802,63.706,40.211,1...</td>\n",
       "    </tr>\n",
       "  </tbody>\n",
       "</table>\n",
       "</div>"
      ],
      "text/plain": [
       "                                                      data\n",
       "email                                   mengwai8@gmail.com\n",
       "samples  69.034,144.717,192.852,186.802,63.706,40.211,1..."
      ]
     },
     "execution_count": 19,
     "metadata": {},
     "output_type": "execute_result"
    }
   ],
   "source": [
    "df"
   ]
  },
  {
   "cell_type": "code",
   "execution_count": 20,
   "metadata": {},
   "outputs": [],
   "source": [
    "df1=(df.data[\"samples\"])"
   ]
  },
  {
   "cell_type": "code",
   "execution_count": 21,
   "metadata": {},
   "outputs": [
    {
     "data": {
      "text/plain": [
       "'69.034,144.717,192.852,186.802,63.706,40.211,138.115,118.234,113.539,24.811,93.578,135.242,60.261,91.72,68.603,96.841,180.332,99.556,42.65,169.499,6.863,19.25,108.33,117.03,123.943,10.977,83.219,131.475,166.294,97.954,79.13,190.671,60.744,183.522,5.059,37.522,125.408,66.028,155.243,170.241,172.344,188.934,18.652,139.171,9.867,156.056,109.064,17.367,150.968,155.618,172.55,158.732,61.766,21.126,61.001,55.01,79.253,44.261,158.922'"
      ]
     },
     "execution_count": 21,
     "metadata": {},
     "output_type": "execute_result"
    }
   ],
   "source": [
    "(df1)"
   ]
  },
  {
   "cell_type": "code",
   "execution_count": 23,
   "metadata": {},
   "outputs": [],
   "source": [
    "split1=(df1).split (\",\")\n"
   ]
  },
  {
   "cell_type": "code",
   "execution_count": 24,
   "metadata": {},
   "outputs": [
    {
     "name": "stdout",
     "output_type": "stream",
     "text": [
      "69.034\n",
      "144.717\n",
      "192.852\n",
      "186.802\n",
      "63.706\n",
      "40.211\n",
      "138.115\n",
      "118.234\n",
      "113.539\n",
      "24.811\n",
      "93.578\n",
      "135.242\n",
      "60.261\n",
      "91.72\n",
      "68.603\n",
      "96.841\n",
      "180.332\n",
      "99.556\n",
      "42.65\n",
      "169.499\n",
      "6.863\n",
      "19.25\n",
      "108.33\n",
      "117.03\n",
      "123.943\n",
      "10.977\n",
      "83.219\n",
      "131.475\n",
      "166.294\n",
      "97.954\n",
      "79.13\n",
      "190.671\n",
      "60.744\n",
      "183.522\n",
      "5.059\n",
      "37.522\n",
      "125.408\n",
      "66.028\n",
      "155.243\n",
      "170.241\n",
      "172.344\n",
      "188.934\n",
      "18.652\n",
      "139.171\n",
      "9.867\n",
      "156.056\n",
      "109.064\n",
      "17.367\n",
      "150.968\n",
      "155.618\n",
      "172.55\n",
      "158.732\n",
      "61.766\n",
      "21.126\n",
      "61.001\n",
      "55.01\n",
      "79.253\n",
      "44.261\n",
      "158.922\n"
     ]
    }
   ],
   "source": [
    "for i in split1:\n",
    "    print (i)"
   ]
  },
  {
   "cell_type": "code",
   "execution_count": 36,
   "metadata": {},
   "outputs": [],
   "source": [
    "#transform into panda array\n",
    "array1=np.array(split1).astype(np.float)"
   ]
  },
  {
   "cell_type": "code",
   "execution_count": 37,
   "metadata": {},
   "outputs": [
    {
     "data": {
      "text/plain": [
       "101.69267796610168"
      ]
     },
     "execution_count": 37,
     "metadata": {},
     "output_type": "execute_result"
    }
   ],
   "source": [
    "mean_cal=np.mean(array1)\n",
    "mean_cal"
   ]
  },
  {
   "cell_type": "code",
   "execution_count": 38,
   "metadata": {},
   "outputs": [
    {
     "data": {
      "text/plain": [
       "3248.6727702522257"
      ]
     },
     "execution_count": 38,
     "metadata": {},
     "output_type": "execute_result"
    }
   ],
   "source": [
    "var_cal=np.var(array1)\n",
    "var_cal"
   ]
  },
  {
   "cell_type": "code",
   "execution_count": 39,
   "metadata": {},
   "outputs": [
    {
     "data": {
      "text/plain": [
       "2"
      ]
     },
     "execution_count": 39,
     "metadata": {},
     "output_type": "execute_result"
    }
   ],
   "source": [
    "argmax_cal=np.argmax(array1)\n",
    "int(argmax_cal)"
   ]
  },
  {
   "cell_type": "code",
   "execution_count": 40,
   "metadata": {},
   "outputs": [
    {
     "data": {
      "text/plain": [
       "'https%3A//github.com/mengwailoh/ISS_reinforcement/blob/master/REST_API_copy.ipynb%2520'"
      ]
     },
     "execution_count": 40,
     "metadata": {},
     "output_type": "execute_result"
    }
   ],
   "source": [
    "url=('https://github.com/mengwailoh/ISS_reinforcement/blob/master/REST_API-Submission.ipynb')\n",
    "urllib.parse.quote(url)"
   ]
  },
  {
   "cell_type": "code",
   "execution_count": 41,
   "metadata": {},
   "outputs": [],
   "source": [
    "headers = {'Content-Type': 'application/x-www-form-urlencoded'}"
   ]
  },
  {
   "cell_type": "code",
   "execution_count": 45,
   "metadata": {},
   "outputs": [],
   "source": [
    "data = {'email': 'mengwai8@gmail.com',  'date':'07-09-2020', 'samples': data[\"samples\"],'mean':str(mean_cal),'variance': str(var_cal), 'argmax=':str(argmax_cal),'url=':str(url),'myWork':'True'}"
   ]
  },
  {
   "cell_type": "code",
   "execution_count": 43,
   "metadata": {},
   "outputs": [
    {
     "data": {
      "text/plain": [
       "{'email': 'mengwai8@gmail.com',\n",
       " 'date': '07-09-2020',\n",
       " 'samples': '69.034,144.717,192.852,186.802,63.706,40.211,138.115,118.234,113.539,24.811,93.578,135.242,60.261,91.72,68.603,96.841,180.332,99.556,42.65,169.499,6.863,19.25,108.33,117.03,123.943,10.977,83.219,131.475,166.294,97.954,79.13,190.671,60.744,183.522,5.059,37.522,125.408,66.028,155.243,170.241,172.344,188.934,18.652,139.171,9.867,156.056,109.064,17.367,150.968,155.618,172.55,158.732,61.766,21.126,61.001,55.01,79.253,44.261,158.922',\n",
       " 'mean=': '101.69267796610168',\n",
       " 'variance=': '3248.6727702522257',\n",
       " 'argmax=': '2',\n",
       " 'url=': 'https://github.com/mengwailoh/ISS_reinforcement/blob/master/REST_API_copy.ipynb%20',\n",
       " 'myWork': 'True'}"
      ]
     },
     "execution_count": 43,
     "metadata": {},
     "output_type": "execute_result"
    }
   ],
   "source": [
    "data"
   ]
  },
  {
   "cell_type": "code",
   "execution_count": 44,
   "metadata": {},
   "outputs": [
    {
     "data": {
      "text/plain": [
       "<Response [400]>"
      ]
     },
     "execution_count": 44,
     "metadata": {},
     "output_type": "execute_result"
    }
   ],
   "source": [
    "requests.post('http://165.22.250.235/api/assessment/',data,headers)"
   ]
  }
 ],
 "metadata": {
  "kernelspec": {
   "display_name": "Python 3",
   "language": "python",
   "name": "python3"
  },
  "language_info": {
   "codemirror_mode": {
    "name": "ipython",
    "version": 3
   },
   "file_extension": ".py",
   "mimetype": "text/x-python",
   "name": "python",
   "nbconvert_exporter": "python",
   "pygments_lexer": "ipython3",
   "version": "3.7.6"
  }
 },
 "nbformat": 4,
 "nbformat_minor": 4
}
